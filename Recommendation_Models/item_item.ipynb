{
  "nbformat": 4,
  "nbformat_minor": 0,
  "metadata": {
    "colab": {
      "provenance": []
    },
    "kernelspec": {
      "name": "python3",
      "display_name": "Python 3"
    },
    "language_info": {
      "name": "python"
    }
  },
  "cells": [
    {
      "cell_type": "code",
      "execution_count": null,
      "metadata": {
        "id": "xOj_So1WNL7I"
      },
      "outputs": [],
      "source": [
        "\n",
        "import pandas as pd\n",
        "import numpy as np\n",
        "from scipy.sparse import coo_matrix\n",
        "from sklearn.decomposition import TruncatedSVD\n",
        "from tqdm import tqdm"
      ]
    },
    {
      "cell_type": "code",
      "source": [
        "\n",
        "ratings_df = pd.read_parquet(\"sample_user_ratings.parquet\")\n",
        "\n",
        "print(ratings_df.head())\n",
        "print(ratings_df.shape)\n"
      ],
      "metadata": {
        "colab": {
          "base_uri": "https://localhost:8080/"
        },
        "id": "xytEQARVNOIy",
        "outputId": "27716f0e-5e76-4caf-d34b-fefd55965718"
      },
      "execution_count": null,
      "outputs": [
        {
          "output_type": "stream",
          "name": "stdout",
          "text": [
            "   rating  product_id                       user_id\n",
            "0     5.0  B09TR3DQ8R  AHHSGIZIOTG5UB5E535ZSYS3ZAZA\n",
            "1     5.0  B003I4F6NG  AGBU4666V6SPXZ5CU3BO6OF3OUHA\n",
            "2     5.0  B078JYNSCR  AFPKQFRRTCUUI52KWYNWZDWLG37A\n",
            "3     3.0  B08GKY6N3X  AE3C6BG455J24M3ZFG3LTOJ6NMQQ\n",
            "4     5.0  B07T9NS94T  AFHPAUGWK56E2AE6J5BL7IERSY5Q\n",
            "(100000, 3)\n"
          ]
        }
      ]
    },
    {
      "cell_type": "code",
      "source": [
        "\n",
        "user_ids = ratings_df['user_id'].unique()\n",
        "product_ids = ratings_df['product_id'].unique()\n",
        "\n",
        "user_to_idx = {user: i for i, user in enumerate(user_ids)}\n",
        "product_to_idx = {prod: i for i, prod in enumerate(product_ids)}\n",
        "\n",
        "# Map the user and product IDs to indices\n",
        "row_indices = ratings_df['user_id'].map(user_to_idx)\n",
        "col_indices = ratings_df['product_id'].map(product_to_idx)\n",
        "data = ratings_df['rating'].values\n",
        "\n",
        "# Create a sparse user-item matrix in COO format\n",
        "R = coo_matrix((data, (row_indices, col_indices)), shape=(len(user_ids), len(product_ids)))\n",
        "print(\"Matrix Shape: \", R.shape)"
      ],
      "metadata": {
        "colab": {
          "base_uri": "https://localhost:8080/"
        },
        "id": "RaBTNUx7NdB8",
        "outputId": "de06b1f4-8a25-460c-f497-55557abe0c7b"
      },
      "execution_count": null,
      "outputs": [
        {
          "output_type": "stream",
          "name": "stdout",
          "text": [
            "Matrix Shape:  (45927, 69877)\n"
          ]
        }
      ]
    },
    {
      "cell_type": "code",
      "source": [
        "from sklearn.metrics.pairwise import cosine_similarity\n",
        "\n",
        "# Convert to CSR format for efficient row slicing\n",
        "R_csr = R.tocsr()\n",
        "\n",
        "# Compute cosine similarity between products\n",
        "item_similarity = cosine_similarity(R_csr.T)\n",
        "\n",
        "# Convert to DataFrame for easy lookup\n",
        "item_sim_df = pd.DataFrame(item_similarity, index=product_ids, columns=product_ids)\n",
        "\n",
        "\n"
      ],
      "metadata": {
        "id": "oEqC_pzeN2ei"
      },
      "execution_count": null,
      "outputs": []
    },
    {
      "cell_type": "code",
      "source": [
        "def get_similar_products(product_id, k=5):\n",
        "    \"\"\"Returns top-k similar products based on item similarity.\"\"\"\n",
        "    if product_id not in item_sim_df:\n",
        "        return []\n",
        "    return item_sim_df[product_id].nlargest(k + 1)[1:].index.tolist()  # Skip itself\n",
        "\n",
        "# Example Usage\n",
        "input_product = 'B003I4F6NG'  # Example product\n",
        "print(input_product)\n",
        "similar_products = get_similar_products(input_product, k=5)\n",
        "print(\"Similar Products:\", similar_products)"
      ],
      "metadata": {
        "colab": {
          "base_uri": "https://localhost:8080/"
        },
        "id": "LgiMFt0hODma",
        "outputId": "1dc2ee47-1e1b-4f05-be63-7a2c844d6b9b"
      },
      "execution_count": null,
      "outputs": [
        {
          "output_type": "stream",
          "name": "stdout",
          "text": [
            "B003I4F6NG\n",
            "Similar Products: ['B07PXKYVSP', 'B001CDO9QA', 'B09TR3DQ8R', 'B078JYNSCR', 'B08GKY6N3X']\n"
          ]
        }
      ]
    },
    {
      "cell_type": "code",
      "source": [
        "product_descriptions_df = pd.read_parquet(\"sample_item_info.parquet\")\n",
        "\n",
        "print(product_descriptions_df.head())\n",
        "print(product_descriptions_df.shape)"
      ],
      "metadata": {
        "colab": {
          "base_uri": "https://localhost:8080/"
        },
        "id": "E_GGTsmAPdUh",
        "outputId": "6495566b-27dd-4f4b-866a-8ace38bf2821"
      },
      "execution_count": null,
      "outputs": [
        {
          "output_type": "stream",
          "name": "stdout",
          "text": [
            "                                               title  product_id  \\\n",
            "0  Heaven - 100 Stick Bulk Pack of In-Scents Incense  B001OO1JF6   \n",
            "1  unison gifts YJF-550 4 INCH Shark WATERGLOBE, ...  B01LFX64NM   \n",
            "2  Home Office Armless Mesh Ergonomic Executive C...  B09QKQJ1PS   \n",
            "3  AUFANK Canopy Bed with Sturday Metal Bed Frame...  B07RVPZL35   \n",
            "4  The Paisley Box Personalized Tumbler/Custom Tu...  B094C3B5PF   \n",
            "\n",
            "                                         description  \\\n",
            "0                                                 []   \n",
            "1                          [4 INCH SHARK WATERGLOBE]   \n",
            "2  [What is the difference between HHS office cha...   \n",
            "3  [■  The hot spots of this metal bed are its si...   \n",
            "4                                                 []   \n",
            "\n",
            "                                              images  \n",
            "0  {'hi_res': [None, None], 'large': ['https://m....  \n",
            "1  {'hi_res': ['https://m.media-amazon.com/images...  \n",
            "2  {'hi_res': ['https://m.media-amazon.com/images...  \n",
            "3  {'hi_res': ['https://m.media-amazon.com/images...  \n",
            "4  {'hi_res': ['https://m.media-amazon.com/images...  \n",
            "(20000, 4)\n"
          ]
        }
      ]
    },
    {
      "cell_type": "code",
      "source": [
        "def get_product_description(product_id):\n",
        "    product = product_descriptions_df[product_descriptions_df['product_id'] == product_id]\n",
        "    if not product.empty:\n",
        "      description = product.iloc[0]['description']\n",
        "      if description is None or len(description) == 0:\n",
        "        description = [\"\"]\n",
        "\n",
        "      return product.iloc[0]['title'] + \". \" + description[0]\n",
        "    return None\n",
        "print(get_product_description('B003I4F6NG'))"
      ],
      "metadata": {
        "colab": {
          "base_uri": "https://localhost:8080/"
        },
        "id": "T5-T_j2YQmbp",
        "outputId": "cfad2874-48a8-4e49-f9df-2f23a59d1075"
      },
      "execution_count": null,
      "outputs": [
        {
          "output_type": "stream",
          "name": "stdout",
          "text": [
            "None\n"
          ]
        }
      ]
    },
    {
      "cell_type": "code",
      "source": [
        "import torch\n",
        "from transformers import AutoModel, AutoTokenizer\n",
        "\n",
        "\n",
        "# Load BLAIR model and tokenizer\n",
        "tokenizer = AutoTokenizer.from_pretrained(\"hyp1231/blair-roberta-large\")\n",
        "model = AutoModel.from_pretrained(\"hyp1231/blair-roberta-large\")"
      ],
      "metadata": {
        "id": "Ke_Jf2YNTp9E"
      },
      "execution_count": null,
      "outputs": []
    },
    {
      "cell_type": "code",
      "source": [
        "def get_complementary_products_blair(input_product, similar_products, k=3):\n",
        "    \"\"\"Use BLAIR to find the most complementary products among similar ones.\"\"\"\n",
        "\n",
        "    input_desc = get_product_description(input_product)\n",
        "    similar_descs = [get_product_description(pid) for pid in similar_products]\n",
        "\n",
        "    if not input_desc or all(not desc for desc in similar_descs):\n",
        "        return similar_products[:k]  # Default to first k if descriptions are missing\n",
        "\n",
        "    # **New: Complementary instruction**\n",
        "    context_prompt = (\"I am looking for products that complement the following product, meaning they should be bought together.\")\n",
        "\n",
        "    # Create input texts for BLAIR\n",
        "    texts = [context_prompt + \" \" + input_desc] + similar_descs\n",
        "    inputs = tokenizer(texts, padding=True, truncation=True, max_length=512, return_tensors=\"pt\")\n",
        "\n",
        "    with torch.no_grad():\n",
        "        embeddings = model(**inputs, return_dict=True).last_hidden_state[:, 0]\n",
        "        embeddings = embeddings / embeddings.norm(dim=1, keepdim=True)  # Normalize embeddings\n",
        "\n",
        "    input_embedding = embeddings[0]\n",
        "    similarity_scores = (input_embedding @ embeddings[1:].T).cpu().numpy()  # Cosine similarity\n",
        "\n",
        "    # **New: Rank by lowest similarity to avoid redundancy and find complementary items**\n",
        "    ranked_indices = np.argsort(similarity_scores)[::-1][:k]\n",
        "\n",
        "    return [similar_products[i] for i in ranked_indices]"
      ],
      "metadata": {
        "id": "N-8saMNJTZlK"
      },
      "execution_count": null,
      "outputs": []
    },
    {
      "cell_type": "code",
      "source": [
        "similar_products = ['B001OO1JF6','B01LFX64NM', 'B09QKQJ1PS','B07RVPZL35', 'B094C3B5PF' ]\n",
        "print(get_complementary_products_blair('B09QKQJ1PS', similar_products, k=3))"
      ],
      "metadata": {
        "colab": {
          "base_uri": "https://localhost:8080/"
        },
        "id": "Vmh3yxbeTpYX",
        "outputId": "0a477231-d44f-425d-9a14-67b05a168162"
      },
      "execution_count": null,
      "outputs": [
        {
          "output_type": "stream",
          "name": "stdout",
          "text": [
            "['B09QKQJ1PS', 'B07RVPZL35', 'B01LFX64NM']\n"
          ]
        }
      ]
    },
    {
      "cell_type": "code",
      "source": [
        "print( get_product_description('B09QKQJ1PS'))\n",
        "\n",
        "print(get_product_description('B07RVPZL35'))\n",
        "print(get_product_description('B01LFX64NM'))\n",
        "# print(get_product_description('B01LFX64NM'))\n",
        "# print(get_product_description('B09QKQJ1PS'))\n",
        "# print(get_product_description('B07RVPZL35'))"
      ],
      "metadata": {
        "colab": {
          "base_uri": "https://localhost:8080/"
        },
        "id": "ElwGMkcOVLL7",
        "outputId": "6038905e-0e53-42b0-81fd-ac764616d716"
      },
      "execution_count": null,
      "outputs": [
        {
          "output_type": "stream",
          "name": "stdout",
          "text": [
            "Home Office Armless Mesh Ergonomic Executive Chair Adjustable Mid Back Chair for Women Small Modern Swivel Rolling Desk ,Task Chair with Wheels for Home, Office, Blue. What is the difference between HHS office chair and other office chairs Our company has been manufacturing office chairs for over 10 years and we have a professional company. Compared with other this office chair is Ergonomic design/ Comfortable/ Build to last This office chair is designed with ergonomic structure that provides ease and comfort. The office chair is made of selected materials for durability and provides perfect back support. When spending a lot of time in front of the computer, this office chair can make you feel comfortable and reduce pain. Mesh office chair, comfortable and not stuffy for long hours. Thickened foam provides great support. If you're looking for a comfortable and economical chair,this office chair is the first choice. You can also use the chair to watch movies and play games for hours, allowing you to look up and watch TV without any pressure on my neck or back, also providing you with enough comfort to relax. NOTE Delivery time is 2-5 days. Free replacement parts within 12 months, please contact us for damage or missing parts. We will help you within 24 hours. Specifications 21.26 x 16.54 x 40.55 inches. Adjustable height from 18.3inch to 23inch\n",
            "AUFANK Canopy Bed with Sturday Metal Bed Frame No Box Spring Needed Mattress Foundation Black Queen Size. ■  The hot spots of this metal bed are its simple design and classical lines .It is designed to fit your bedroom and provide a fun place to sleep.\n",
            "unison gifts YJF-550 4 INCH Shark WATERGLOBE, Multicolor. 4 INCH SHARK WATERGLOBE\n"
          ]
        }
      ]
    }
  ]
}