{
  "nbformat": 4,
  "nbformat_minor": 0,
  "metadata": {
    "colab": {
      "provenance": []
    },
    "kernelspec": {
      "name": "python3",
      "display_name": "Python 3"
    },
    "language_info": {
      "name": "python"
    }
  },
  "cells": [
    {
      "cell_type": "code",
      "execution_count": 1,
      "metadata": {
        "id": "RSeyd1mbsrmI"
      },
      "outputs": [],
      "source": [
        "import pandas as pd\n",
        "import numpy as np\n",
        "from scipy.sparse import coo_matrix\n",
        "from sklearn.decomposition import TruncatedSVD\n",
        "from sklearn.metrics.pairwise import cosine_similarity\n",
        "from tqdm import tqdm"
      ]
    },
    {
      "cell_type": "code",
      "source": [
        "import pandas as pd\n",
        "\n",
        "# Load the parquet file\n",
        "ratings_df = pd.read_parquet(\"sample_user_ratings.parquet\")\n",
        "\n",
        "# Save it as a CSV file\n",
        "ratings_df.to_csv(\"sample_user_ratings.csv\", index=False)"
      ],
      "metadata": {
        "id": "OrYhIwzj8tAd"
      },
      "execution_count": 2,
      "outputs": []
    },
    {
      "cell_type": "code",
      "source": [
        "# Get Data\n",
        "ratings_df = pd.read_parquet(\"sample_user_ratings.parquet\")\n",
        "\n",
        "print(\"Ratings Sample:\")\n",
        "print(ratings_df.head())\n",
        "print(\"Ratings matrix shape:\", ratings_df.shape)\n",
        "\n",
        "user_ids = ratings_df['user_id'].unique()\n",
        "product_ids = ratings_df['product_id'].unique()\n",
        "\n",
        "user_to_idx = {user: i for i, user in enumerate(user_ids)}\n",
        "product_to_idx = {prod: i for i, prod in enumerate(product_ids)}"
      ],
      "metadata": {
        "colab": {
          "base_uri": "https://localhost:8080/"
        },
        "id": "KLk4uQmNs0DN",
        "outputId": "89540043-76cd-44be-9482-226b33ea189d"
      },
      "execution_count": 3,
      "outputs": [
        {
          "output_type": "stream",
          "name": "stdout",
          "text": [
            "Ratings Sample:\n",
            "   rating  product_id                       user_id\n",
            "0     5.0  B09TR3DQ8R  AHHSGIZIOTG5UB5E535ZSYS3ZAZA\n",
            "1     5.0  B003I4F6NG  AGBU4666V6SPXZ5CU3BO6OF3OUHA\n",
            "2     5.0  B078JYNSCR  AFPKQFRRTCUUI52KWYNWZDWLG37A\n",
            "3     3.0  B08GKY6N3X  AE3C6BG455J24M3ZFG3LTOJ6NMQQ\n",
            "4     5.0  B07T9NS94T  AFHPAUGWK56E2AE6J5BL7IERSY5Q\n",
            "Ratings matrix shape: (100000, 3)\n"
          ]
        }
      ]
    },
    {
      "cell_type": "code",
      "source": [
        "# Compute Global Mean, Biases, and the Residual Matrix\n",
        "\n",
        "# Global Mean\n",
        "global_mean = ratings_df['rating'].mean()\n",
        "print(\"Global Mean Rating:\", global_mean)\n",
        "\n",
        "# User Biases\n",
        "user_bias = ratings_df.groupby('user_id')['rating'].mean() - global_mean\n",
        "\n",
        "# Item Biases\n",
        "def compute_item_bias(df, user_bias, global_mean):\n",
        "    df_with_bias = df.copy()\n",
        "    df_with_bias['user_bias'] = df_with_bias['user_id'].map(user_bias)\n",
        "    df_with_bias['residual'] = df_with_bias['rating'] - global_mean - df_with_bias['user_bias']\n",
        "    return df_with_bias.groupby('product_id')['residual'].mean()\n",
        "\n",
        "item_bias = compute_item_bias(ratings_df, user_bias, global_mean)\n",
        "\n",
        "\n",
        "\n",
        "# Map biases back to df\n",
        "ratings_df['user_bias'] = ratings_df['user_id'].map(user_bias)\n",
        "ratings_df['item_bias'] = ratings_df['product_id'].map(item_bias)\n",
        "ratings_df['rating_residual'] = ratings_df['rating'] - (global_mean + ratings_df['user_bias'] + ratings_df['item_bias'])\n",
        "\n",
        "print(\"Sample of ratings with biases and residuals:\")\n",
        "print(ratings_df.head())\n",
        "\n"
      ],
      "metadata": {
        "colab": {
          "base_uri": "https://localhost:8080/"
        },
        "id": "-Gojc5jVvfog",
        "outputId": "9499f67b-4026-4945-ea2b-a1f22c8546a7"
      },
      "execution_count": 4,
      "outputs": [
        {
          "output_type": "stream",
          "name": "stdout",
          "text": [
            "Global Mean Rating: 4.34643\n",
            "Sample of ratings with biases and residuals:\n",
            "   rating  product_id                       user_id  user_bias  item_bias  \\\n",
            "0     5.0  B09TR3DQ8R  AHHSGIZIOTG5UB5E535ZSYS3ZAZA   0.653570   0.000000   \n",
            "1     5.0  B003I4F6NG  AGBU4666V6SPXZ5CU3BO6OF3OUHA  -1.346430   1.000000   \n",
            "2     5.0  B078JYNSCR  AFPKQFRRTCUUI52KWYNWZDWLG37A   0.367856   0.285714   \n",
            "3     3.0  B08GKY6N3X  AE3C6BG455J24M3ZFG3LTOJ6NMQQ  -2.346430   1.000000   \n",
            "4     5.0  B07T9NS94T  AFHPAUGWK56E2AE6J5BL7IERSY5Q   0.653570   0.000000   \n",
            "\n",
            "   rating_residual  \n",
            "0              0.0  \n",
            "1              1.0  \n",
            "2              0.0  \n",
            "3              0.0  \n",
            "4              0.0  \n"
          ]
        }
      ]
    },
    {
      "cell_type": "code",
      "source": [
        "# User-Item Matrix\n",
        "row_indices = ratings_df['user_id'].map(user_to_idx)\n",
        "col_indices = ratings_df['product_id'].map(product_to_idx)\n",
        "data = ratings_df['rating_residual'].values\n",
        "\n",
        "user_item_sparse = coo_matrix((data, (row_indices, col_indices)), shape=(len(user_ids), len(product_ids)))\n",
        "print(\"Matrix Shape:\", user_item_sparse.shape)"
      ],
      "metadata": {
        "colab": {
          "base_uri": "https://localhost:8080/"
        },
        "id": "3Wjyiyxxv0vQ",
        "outputId": "4301b5d4-abab-45fb-ee39-0231db3f0dab"
      },
      "execution_count": 5,
      "outputs": [
        {
          "output_type": "stream",
          "name": "stdout",
          "text": [
            "Matrix Shape: (45927, 69877)\n"
          ]
        }
      ]
    },
    {
      "cell_type": "code",
      "source": [
        "# Num latent factors (can change as needed)\n",
        "\n",
        "n_factors = 20\n",
        "svd = TruncatedSVD(n_components=n_factors, random_state=42)\n",
        "user_latent = svd.fit_transform(user_item_sparse)\n",
        "item_latent = svd.components_.T\n",
        "\n",
        "print(\"User latent factors shape:\", user_latent.shape)\n",
        "print(\"Item latent factors shape:\", item_latent.shape)"
      ],
      "metadata": {
        "colab": {
          "base_uri": "https://localhost:8080/"
        },
        "id": "YaMvZmrqwMic",
        "outputId": "6b0b5cfa-ae4f-4de7-d216-daf2154295b9"
      },
      "execution_count": 6,
      "outputs": [
        {
          "output_type": "stream",
          "name": "stdout",
          "text": [
            "User latent factors shape: (45927, 20)\n",
            "Item latent factors shape: (69877, 20)\n"
          ]
        }
      ]
    },
    {
      "cell_type": "code",
      "source": [
        "# Get Recs with SVD (with bias)\n",
        "\n",
        "def get_recommendations_svd(user_id, user_to_idx, product_ids, ratings_df,\n",
        "                            user_latent, item_latent, top_n=10):\n",
        "    if user_id not in user_to_idx:\n",
        "        print(\"User not found.\")\n",
        "        return pd.DataFrame()\n",
        "\n",
        "    user_index = user_to_idx[user_id]\n",
        "    predicted_residuals = np.dot(user_latent[user_index], item_latent.T)\n",
        "\n",
        "    user_b = user_bias.get(user_id, 0.0)\n",
        "\n",
        "    pred_df = pd.DataFrame({\n",
        "        'product_id': product_ids,\n",
        "        'item_bias': [item_bias.get(prod, 0.0) for prod in product_ids],\n",
        "        'predicted_residual': predicted_residuals\n",
        "    })\n",
        "\n",
        "    # Predicted rating = global_mean + user_bias + item_bias + predicted_residual\n",
        "    pred_df['predicted_rating'] = global_mean + user_b + pred_df['item_bias'] + pred_df['predicted_residual']\n",
        "\n",
        "    # Remove products the user already rated\n",
        "    rated_products = ratings_df[ratings_df['user_id'] == user_id]['product_id'].unique()\n",
        "    recommendations = pred_df[~pred_df['product_id'].isin(rated_products)]\n",
        "    recommendations = recommendations.sort_values('predicted_rating', ascending=False)\n",
        "\n",
        "    return recommendations.head(top_n)\n"
      ],
      "metadata": {
        "id": "MDywHkY6wYEc"
      },
      "execution_count": 7,
      "outputs": []
    },
    {
      "cell_type": "code",
      "source": [
        "# Test\n",
        "test_user = user_ids[0]\n",
        "print(\"SVD-based Recommendations for test user:\", test_user)\n",
        "test_recs_svd = get_recommendations_svd(test_user, user_to_idx, product_ids, ratings_df, user_latent, item_latent)\n",
        "print(test_recs_svd)"
      ],
      "metadata": {
        "colab": {
          "base_uri": "https://localhost:8080/"
        },
        "id": "6rHr23cSwvnZ",
        "outputId": "0173c4e3-07e4-4486-8041-f617b6a40f62"
      },
      "execution_count": 8,
      "outputs": [
        {
          "output_type": "stream",
          "name": "stdout",
          "text": [
            "SVD-based Recommendations for test user: AHHSGIZIOTG5UB5E535ZSYS3ZAZA\n",
            "       product_id  item_bias  predicted_residual  predicted_rating\n",
            "27676  B0054K55I8   3.333333                 0.0          8.333333\n",
            "1467   B01LZYD15F   3.125000                 0.0          8.125000\n",
            "46897  B093TH4WM6   3.000000                 0.0          8.000000\n",
            "58512  B0141N64YM   3.000000                 0.0          8.000000\n",
            "66438  B08Z48PMGM   3.000000                 0.0          8.000000\n",
            "13721  B0014CQN5E   3.000000                 0.0          8.000000\n",
            "704    B016WVV2VG   3.000000                 0.0          8.000000\n",
            "15257  B005WZBXKE   2.833333                 0.0          7.833333\n",
            "46617  B075MR6QGZ   2.800000                 0.0          7.800000\n",
            "39934  B01LW19G2Z   2.750000                 0.0          7.750000\n"
          ]
        }
      ]
    },
    {
      "cell_type": "code",
      "source": [
        "all_recommendations = []\n",
        "\n",
        "for user_id in tqdm(user_ids, desc=\"Generating recommendations\"):\n",
        "    recs = get_recommendations_svd(user_id, user_to_idx, product_ids, ratings_df,\n",
        "                                  user_latent, item_latent, top_n=10)\n",
        "    for _, row in recs.iterrows():\n",
        "        all_recommendations.append({\n",
        "            'user_id': user_id,\n",
        "            'product_id': row['product_id'],\n",
        "            'predicted_rating': row['predicted_rating']\n",
        "        })\n",
        "\n",
        "recommendations_df = pd.DataFrame(all_recommendations)\n",
        "recommendations_df.to_csv('user_recommendations.csv', index=False)\n",
        "\n",
        "from IPython.display import FileLink\n",
        "FileLink('user_recommendations.csv')"
      ],
      "metadata": {
        "colab": {
          "base_uri": "https://localhost:8080/",
          "height": 52
        },
        "id": "Pkjn6mOtc-FO",
        "outputId": "89fe8077-05d2-4632-cdba-650aa24e89ae"
      },
      "execution_count": 9,
      "outputs": [
        {
          "output_type": "stream",
          "name": "stderr",
          "text": [
            "Generating recommendations: 100%|██████████| 45927/45927 [3:45:54<00:00,  3.39it/s]\n"
          ]
        },
        {
          "output_type": "execute_result",
          "data": {
            "text/plain": [
              "/content/user_recommendations.csv"
            ],
            "text/html": [
              "<a href='user_recommendations.csv' target='_blank'>user_recommendations.csv</a><br>"
            ]
          },
          "metadata": {},
          "execution_count": 9
        }
      ]
    },
    {
      "cell_type": "code",
      "source": [
        "from IPython.display import HTML\n",
        "\n",
        "def auto_download(file_path):\n",
        "    return HTML(f\"\"\"\n",
        "        <html>\n",
        "            <body>\n",
        "                <script>\n",
        "                    var link = document.createElement('a');\n",
        "                    link.href = '{file_path}';\n",
        "                    link.download = '{file_path}';\n",
        "                    document.body.appendChild(link);\n",
        "                    link.click();\n",
        "                    document.body.removeChild(link);\n",
        "                </script>\n",
        "                <p>Downloading <strong>{file_path}</strong>...</p>\n",
        "            </body>\n",
        "        </html>\n",
        "    \"\"\")\n",
        "\n",
        "auto_download(\"user_recommendations.csv\")\n"
      ],
      "metadata": {
        "colab": {
          "base_uri": "https://localhost:8080/",
          "height": 46
        },
        "id": "CfGOdtvirism",
        "outputId": "6e5a8df1-c39d-4b51-87a0-dd923456f995"
      },
      "execution_count": 43,
      "outputs": [
        {
          "output_type": "execute_result",
          "data": {
            "text/plain": [
              "<IPython.core.display.HTML object>"
            ],
            "text/html": [
              "\n",
              "        <html>\n",
              "            <body>\n",
              "                <script>\n",
              "                    var link = document.createElement('a');\n",
              "                    link.href = 'user_recommendations.csv';\n",
              "                    link.download = 'user_recommendations.csv';\n",
              "                    document.body.appendChild(link);\n",
              "                    link.click();\n",
              "                    document.body.removeChild(link);\n",
              "                </script>\n",
              "                <p>Downloading <strong>user_recommendations.csv</strong>...</p>\n",
              "            </body>\n",
              "        </html>\n",
              "    "
            ]
          },
          "metadata": {},
          "execution_count": 43
        }
      ]
    },
    {
      "cell_type": "code",
      "source": [
        "# Slope One Implementation\n",
        "\n",
        "def build_diff_matrix(ratings_df):\n",
        "    \"\"\"\n",
        "    Build the difference matrix and frequency counts used for Slope One.\n",
        "    For each item pair (i, j), compute the average difference in ratings among users who rated both.\n",
        "    \"\"\"\n",
        "    diff = {}\n",
        "    freq = {}\n",
        "\n",
        "    user_groups = ratings_df.groupby('user_id')\n",
        "\n",
        "    for user, group in tqdm(user_groups, desc=\"Building diff matrix\"):\n",
        "        ratings = group[['product_id', 'rating']].set_index('product_id')['rating'].to_dict()\n",
        "        for i, rating_i in ratings.items():\n",
        "            diff.setdefault(i, {})\n",
        "            freq.setdefault(i, {})\n",
        "            for j, rating_j in ratings.items():\n",
        "                diff[i].setdefault(j, 0.0)\n",
        "                freq[i].setdefault(j, 0)\n",
        "                diff[i][j] += rating_i - rating_j\n",
        "                freq[i][j] += 1\n",
        "\n",
        "    for i in diff:\n",
        "        for j in diff[i]:\n",
        "            diff[i][j] /= freq[i][j]\n",
        "\n",
        "    return diff, freq\n",
        "\n",
        "# Build the difference and frequency matrices for Slope One\n",
        "diff_matrix, freq_matrix = build_diff_matrix(ratings_df)\n",
        "\n",
        "def predict_rating_slope_one(user_id, product_id, ratings_df, diff_matrix, freq_matrix):\n",
        "    \"\"\"\n",
        "    Predict the rating for a given user and product using the Slope One algorithm.\n",
        "    \"\"\"\n",
        "    user_ratings = ratings_df[ratings_df['user_id'] == user_id][['product_id', 'rating']].set_index('product_id')['rating']\n",
        "\n",
        "    numerator = 0.0\n",
        "    denominator = 0\n",
        "    # For every item the user has rated, add the weighted contribution to the prediction.\n",
        "    for other_item, user_rating in user_ratings.items():\n",
        "        if product_id in diff_matrix.get(other_item, {}) and freq_matrix[other_item].get(product_id, 0) > 0:\n",
        "            weight = freq_matrix[other_item][product_id]\n",
        "            numerator += (diff_matrix[other_item][product_id] + user_rating) * weight\n",
        "            denominator += weight\n",
        "    if denominator > 0:\n",
        "        return numerator / denominator\n",
        "    else:\n",
        "        return global_mean\n",
        "\n",
        "def get_recommendations_slope_one(user_id, ratings_df, diff_matrix, freq_matrix, product_ids, top_n=10):\n",
        "    \"\"\"\n",
        "    Get top-N recommendations for a user using the Slope One algorithm.\n",
        "    \"\"\"\n",
        "    rated_products = set(ratings_df[ratings_df['user_id'] == user_id]['product_id'])\n",
        "    predictions = []\n",
        "    for prod in product_ids:\n",
        "        if prod in rated_products:\n",
        "            continue\n",
        "        pred_rating = predict_rating_slope_one(user_id, prod, ratings_df, diff_matrix, freq_matrix)\n",
        "        predictions.append((prod, pred_rating))\n",
        "\n",
        "    pred_df = pd.DataFrame(predictions, columns=['product_id', 'predicted_rating'])\n",
        "    pred_df = pred_df.sort_values('predicted_rating', ascending=False)\n",
        "\n",
        "    return pred_df.head(top_n)"
      ],
      "metadata": {
        "colab": {
          "base_uri": "https://localhost:8080/"
        },
        "id": "p6KL3zdOwx-b",
        "outputId": "324f7e60-c479-4715-c70e-5e6236a7fba3"
      },
      "execution_count": 8,
      "outputs": [
        {
          "output_type": "stream",
          "name": "stderr",
          "text": [
            "Building diff matrix: 100%|██████████| 45927/45927 [00:54<00:00, 846.84it/s] \n"
          ]
        }
      ]
    },
    {
      "cell_type": "code",
      "source": [
        "# Test\n",
        "print(\"Slope One Recommendations for test user:\", test_user)\n",
        "test_recs_slope = get_recommendations_slope_one(test_user, ratings_df, diff_matrix, freq_matrix, product_ids)\n",
        "print(test_recs_slope)"
      ],
      "metadata": {
        "colab": {
          "base_uri": "https://localhost:8080/"
        },
        "id": "UoWpiCzbxd4E",
        "outputId": "a3da5e4d-266b-410a-feaf-695d9d0ecbfc"
      },
      "execution_count": 9,
      "outputs": [
        {
          "output_type": "stream",
          "name": "stdout",
          "text": [
            "Slope One Recommendations for test user: AHHSGIZIOTG5UB5E535ZSYS3ZAZA\n",
            "       product_id  predicted_rating\n",
            "119    B076F1C3SG               5.0\n",
            "10549  B09BK97PWT               5.0\n",
            "67590  B07MQK65Z5               5.0\n",
            "30101  B09JM43CHM               5.0\n",
            "37564  B07N17SW7L               5.0\n",
            "6614   B094BYWB2F               5.0\n",
            "19342  B0914T36CH               5.0\n",
            "8815   B08SQG62VB               5.0\n",
            "13823  B088DB19RM               5.0\n",
            "43963  B002VFLGBE               5.0\n"
          ]
        }
      ]
    },
    {
      "cell_type": "code",
      "source": [
        "# Combining SVD and SlopeOne\n",
        "\n",
        "def get_combined_prediction(user_id, product_id,\n",
        "                            user_to_idx, product_ids, ratings_df,\n",
        "                            user_latent, item_latent,\n",
        "                            diff_matrix, freq_matrix, alpha=0.5):\n",
        "\n",
        "    # SVD-based Prediction\n",
        "    if user_id not in user_to_idx:\n",
        "        svd_pred = global_mean\n",
        "    else:\n",
        "        user_index = user_to_idx[user_id]\n",
        "        predicted_residuals = np.dot(user_latent[user_index], item_latent.T)\n",
        "        user_b = user_bias.get(user_id, 0.0)\n",
        "        try:\n",
        "            item_idx = list(product_ids).index(product_id)\n",
        "            item_b = item_bias.get(product_id, 0.0)\n",
        "            svd_pred = global_mean + user_b + item_b + predicted_residuals[item_idx]\n",
        "        except ValueError:\n",
        "            svd_pred = global_mean\n",
        "\n",
        "    # Slope One Prediction\n",
        "    slope_pred = predict_rating_slope_one(user_id, product_id, ratings_df, diff_matrix, freq_matrix)\n",
        "\n",
        "    # Combined Prediction\n",
        "    combined_rating = alpha * svd_pred + (1 - alpha) * slope_pred\n",
        "\n",
        "    return combined_rating\n"
      ],
      "metadata": {
        "id": "qHPT_QBSxi9m"
      },
      "execution_count": 11,
      "outputs": []
    },
    {
      "cell_type": "code",
      "source": [
        "# Test\n",
        "test_product = product_ids[8]\n",
        "test_user = user_ids[5]\n",
        "combined = get_combined_prediction(test_user, test_product,\n",
        "                                   user_to_idx, product_ids, ratings_df,\n",
        "                                   user_latent, item_latent,\n",
        "                                   diff_matrix, freq_matrix, alpha=0.6)\n",
        "print(\"Combined Prediction for user {} on product {}: {:.4f}\".format(test_user, test_product, combined))"
      ],
      "metadata": {
        "colab": {
          "base_uri": "https://localhost:8080/"
        },
        "id": "yebWYa6Vygjw",
        "outputId": "4b9977ba-6378-43ff-d94d-ec0481438999"
      },
      "execution_count": 26,
      "outputs": [
        {
          "output_type": "stream",
          "name": "stdout",
          "text": [
            "Combined Prediction for user AEPMSKC2NVUFLSDQRRLMM2OUE3MQ on product B09NJKH8TT: 4.5964\n"
          ]
        }
      ]
    },
    {
      "cell_type": "code",
      "source": [
        "def get_combined_recommendations(user_id,\n",
        "                                 user_to_idx, product_ids, ratings_df,\n",
        "                                 user_latent, item_latent,\n",
        "                                 diff_matrix, freq_matrix,\n",
        "                                 top_n=10, alpha=0.5):\n",
        "    rated_products = set(ratings_df[ratings_df['user_id'] == user_id]['product_id'])\n",
        "    predictions = []\n",
        "\n",
        "    for prod in product_ids:\n",
        "        if prod in rated_products:\n",
        "            continue\n",
        "        pred = get_combined_prediction(user_id, prod,\n",
        "                                       user_to_idx, product_ids, ratings_df,\n",
        "                                       user_latent, item_latent,\n",
        "                                       diff_matrix, freq_matrix, alpha)\n",
        "        predictions.append((prod, pred))\n",
        "\n",
        "    pred_df = pd.DataFrame(predictions, columns=['product_id', 'predicted_rating'])\n",
        "    pred_df = pred_df.sort_values('predicted_rating', ascending=False)\n",
        "    return pred_df.head(top_n)"
      ],
      "metadata": {
        "id": "AmTCR9WB5FKt"
      },
      "execution_count": 31,
      "outputs": []
    },
    {
      "cell_type": "code",
      "source": [
        "#Test\n",
        "test_user = user_ids[0]\n",
        "print(\"Combined Recommendations for test user:\", test_user)\n",
        "test_recs_combined = get_combined_recommendations(test_user, user_to_idx, product_ids, ratings_df, user_latent, item_latent, diff_matrix, freq_matrix, top_n=10, alpha=0.5)\n",
        "print(test_recs_combined)"
      ],
      "metadata": {
        "colab": {
          "base_uri": "https://localhost:8080/"
        },
        "id": "ypaI2qLp5MHe",
        "outputId": "32ac09ab-70b5-477e-c4b4-fdb0ab9c2381"
      },
      "execution_count": 32,
      "outputs": [
        {
          "output_type": "stream",
          "name": "stdout",
          "text": [
            "Combined Recommendations for test user: AHHSGIZIOTG5UB5E535ZSYS3ZAZA\n",
            "       product_id  predicted_rating\n",
            "27674  B0054K55I8          6.339882\n",
            "1466   B01LZYD15F          6.235715\n",
            "703    B016WVV2VG          6.173215\n",
            "66436  B08Z48PMGM          6.173215\n",
            "58510  B0141N64YM          6.173215\n",
            "13720  B0014CQN5E          6.173215\n",
            "46895  B093TH4WM6          6.173215\n",
            "15256  B005WZBXKE          6.089882\n",
            "46615  B075MR6QGZ          6.073215\n",
            "54956  B07S6BZ88P          6.048215\n"
          ]
        }
      ]
    }
  ]
}