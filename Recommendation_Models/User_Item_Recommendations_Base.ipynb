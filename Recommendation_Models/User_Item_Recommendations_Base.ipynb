{
  "nbformat": 4,
  "nbformat_minor": 0,
  "metadata": {
    "colab": {
      "provenance": []
    },
    "kernelspec": {
      "name": "python3",
      "display_name": "Python 3"
    },
    "language_info": {
      "name": "python"
    }
  },
  "cells": [
    {
      "cell_type": "code",
      "execution_count": 59,
      "metadata": {
        "id": "4xI5Rd1dG6QB"
      },
      "outputs": [],
      "source": [
        "import pandas as pd\n",
        "import numpy as np\n",
        "from scipy.sparse import coo_matrix\n",
        "from sklearn.decomposition import TruncatedSVD\n",
        "from tqdm import tqdm"
      ]
    },
    {
      "cell_type": "code",
      "source": [
        "ratings_df = pd.read_parquet(\"sample_user_ratings.parquet\")\n",
        "\n",
        "print(ratings_df.head())\n",
        "print(ratings_df.shape)"
      ],
      "metadata": {
        "colab": {
          "base_uri": "https://localhost:8080/"
        },
        "id": "AcpH8xlbHOL1",
        "outputId": "6428216d-379f-465f-f888-864f65ef6e4c"
      },
      "execution_count": 60,
      "outputs": [
        {
          "output_type": "stream",
          "name": "stdout",
          "text": [
            "   rating  product_id                       user_id\n",
            "0     5.0  B09TR3DQ8R  AHHSGIZIOTG5UB5E535ZSYS3ZAZA\n",
            "1     5.0  B003I4F6NG  AGBU4666V6SPXZ5CU3BO6OF3OUHA\n",
            "2     5.0  B078JYNSCR  AFPKQFRRTCUUI52KWYNWZDWLG37A\n",
            "3     3.0  B08GKY6N3X  AE3C6BG455J24M3ZFG3LTOJ6NMQQ\n",
            "4     5.0  B07T9NS94T  AFHPAUGWK56E2AE6J5BL7IERSY5Q\n",
            "(100000, 3)\n"
          ]
        }
      ]
    },
    {
      "cell_type": "code",
      "source": [
        "# user_means = ratings_df.groupby('user_id')['rating'].mean()\n",
        "\n",
        "# # Create a copy and subtract user mean\n",
        "# ratings_df['adjusted_rating'] = ratings_df['rating'] - ratings_df['user_id'].map(user_means)\n"
      ],
      "metadata": {
        "id": "h8W5kmt8wiiq"
      },
      "execution_count": 61,
      "outputs": []
    },
    {
      "cell_type": "code",
      "source": [
        "# User item matrix\n",
        "# user_item_matrix = ratings_df.pivot_table(index='user_id', columns='product_id', values='rating')\n",
        "# user_item_matrix = user_item_matrix.fillna(0)\n",
        "# print(user_item_matrix.shape)\n",
        "\n",
        "#Code above leads to storing a really large matrix (crashes runtime -> alternative is to use sparse matrix)\n"
      ],
      "metadata": {
        "id": "UkPjh6G2rsyB"
      },
      "execution_count": 62,
      "outputs": []
    },
    {
      "cell_type": "code",
      "source": [
        "user_ids = ratings_df['user_id'].unique()\n",
        "product_ids = ratings_df['product_id'].unique()\n",
        "\n",
        "user_to_idx = {user: i for i, user in enumerate(user_ids)}\n",
        "product_to_idx = {prod: i for i, prod in enumerate(product_ids)}\n",
        "\n",
        "# Map the user and product IDs to indices\n",
        "row_indices = ratings_df['user_id'].map(user_to_idx)\n",
        "col_indices = ratings_df['product_id'].map(product_to_idx)\n",
        "data = ratings_df['rating'].values\n",
        "\n",
        "# Create a sparse user-item matrix in COO format\n",
        "user_item_sparse = coo_matrix((data, (row_indices, col_indices)), shape=(len(user_ids), len(product_ids)))\n",
        "print(\"Matrix Shape: \", user_item_sparse.shape)"
      ],
      "metadata": {
        "colab": {
          "base_uri": "https://localhost:8080/"
        },
        "id": "8sbLhvqGtIRn",
        "outputId": "6bcee5d1-effe-43e1-9448-bee1d8ce61a3"
      },
      "execution_count": 63,
      "outputs": [
        {
          "output_type": "stream",
          "name": "stdout",
          "text": [
            "Matrix Shape:  (45927, 69877)\n"
          ]
        }
      ]
    },
    {
      "cell_type": "code",
      "source": [
        "# Num latent factors (can change as needed)\n",
        "\n",
        "n_factors = 20\n",
        "svd = TruncatedSVD(n_components=n_factors, random_state=42)\n",
        "user_latent = svd.fit_transform(user_item_sparse)\n",
        "item_latent = svd.components_.T\n",
        "\n",
        "print(\"User latent factors shape:\", user_latent.shape)\n",
        "print(\"Item latent factors shape:\", item_latent.shape)"
      ],
      "metadata": {
        "colab": {
          "base_uri": "https://localhost:8080/"
        },
        "id": "hAdpDKF4uZOx",
        "outputId": "e751991c-7cec-4419-c98b-a8d67b719b59"
      },
      "execution_count": 64,
      "outputs": [
        {
          "output_type": "stream",
          "name": "stdout",
          "text": [
            "User latent factors shape: (45927, 20)\n",
            "Item latent factors shape: (69877, 20)\n"
          ]
        }
      ]
    },
    {
      "cell_type": "code",
      "source": [
        "# Get Recommendations for users\n",
        "def get_recommendations(user_id, user_to_idx, product_ids, user_latent, item_latent, ratings_df, top_n=10):\n",
        "    if user_id not in user_to_idx:\n",
        "        print(\"User not found.\")\n",
        "        return pd.DataFrame()\n",
        "\n",
        "    user_index = user_to_idx[user_id]\n",
        "\n",
        "    predicted_ratings = np.dot(user_latent[user_index], item_latent.T)\n",
        "\n",
        "    rated_products = ratings_df[ratings_df['user_id'] == user_id]['product_id'].unique()\n",
        "\n",
        "    predictions = pd.DataFrame({\n",
        "        'product_id': product_ids,\n",
        "        'predicted_rating': predicted_ratings\n",
        "    })\n",
        "\n",
        "    recommendations = predictions[~predictions['product_id'].isin(rated_products)]\n",
        "\n",
        "    recommendations = recommendations.sort_values('predicted_rating', ascending=False)\n",
        "\n",
        "    return recommendations.head(top_n)"
      ],
      "metadata": {
        "id": "Jzame2BZubHl"
      },
      "execution_count": 65,
      "outputs": []
    },
    {
      "cell_type": "code",
      "source": [
        "# Example\n",
        "test_user = user_ids[0]\n",
        "print(\"Recommendations for test user:\", test_user)\n",
        "test_recs = get_recommendations(test_user, user_to_idx, product_ids, user_latent, item_latent, ratings_df)\n",
        "print(test_recs)"
      ],
      "metadata": {
        "colab": {
          "base_uri": "https://localhost:8080/"
        },
        "id": "YV6lBOClvzgs",
        "outputId": "3512b1bc-d655-4738-c128-91f28abde583"
      },
      "execution_count": 66,
      "outputs": [
        {
          "output_type": "stream",
          "name": "stdout",
          "text": [
            "Recommendations for test user: AHHSGIZIOTG5UB5E535ZSYS3ZAZA\n",
            "       product_id  predicted_rating\n",
            "809    B0C7LZYYWQ      3.792713e-06\n",
            "801    B0B69XTPVL      3.335994e-06\n",
            "337    B0B53DWRVW      1.675591e-06\n",
            "31555  B0B3MNTBLV      1.399080e-06\n",
            "1114   B0CGY43Y3P      1.332715e-06\n",
            "8636   B08JLVZBXZ      1.266972e-06\n",
            "3107   B09CQ7R1D8      1.128499e-06\n",
            "270    B0BZJP9VGZ      1.006931e-06\n",
            "3120   B08K22FTF1      9.071973e-07\n",
            "1480   B09Q8J51BB      8.773022e-07\n"
          ]
        }
      ]
    },
    {
      "cell_type": "code",
      "source": [
        "all_recommendations = []\n",
        "\n",
        "for user_id in tqdm(user_ids, desc=\"Generating recommendations for all users\"):\n",
        "    recs = get_recommendations(user_id, user_to_idx, product_ids, user_latent, item_latent, ratings_df, top_n=10)\n",
        "    # Enumerate the recommendations for ranking (starting at rank 1)\n",
        "    for rank, row in enumerate(recs.itertuples(index=False), start=1):\n",
        "        all_recommendations.append({\n",
        "            'user_id': user_id,\n",
        "            'product_id': row.product_id,\n",
        "            'predicted_rating': row.predicted_rating,\n",
        "            'rank': rank\n",
        "        })"
      ],
      "metadata": {
        "colab": {
          "base_uri": "https://localhost:8080/"
        },
        "id": "iYBb1-y1yAsv",
        "outputId": "f54967f1-866b-4495-e5a1-32a8b8d2dc4c"
      },
      "execution_count": 67,
      "outputs": [
        {
          "output_type": "stream",
          "name": "stderr",
          "text": [
            "Generating recommendations for all users: 100%|██████████| 45927/45927 [54:42<00:00, 13.99it/s]\n"
          ]
        }
      ]
    },
    {
      "cell_type": "code",
      "source": [
        "# Save recs as CSV\n",
        "all_recs_df = pd.DataFrame(all_recommendations)\n",
        "all_recs_df.to_csv(\"top10_recommendations_all_users_sample.csv\", index=False)"
      ],
      "metadata": {
        "id": "QQQlo0UmyB3A"
      },
      "execution_count": 68,
      "outputs": []
    }
  ]
}